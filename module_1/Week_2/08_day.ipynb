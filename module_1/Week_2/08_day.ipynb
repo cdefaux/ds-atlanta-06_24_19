{
 "cells": [
  {
   "cell_type": "markdown",
   "metadata": {},
   "source": [
    "# 08 Day"
   ]
  },
  {
   "cell_type": "markdown",
   "metadata": {},
   "source": [
    "1. Set the country column as the dataframe index \n",
    "2. Convert the Area_km_sq column to square miles (Change the column heading as well).\n",
    "3. Create a new column that contains the population per sq_mile\n",
    "4. Challenge: Redo number 2 using the mapping function (Here is a great chance to practicing your Googling!!!)\n",
    "\n",
    "** This is all fake data and does not reflect reality! "
   ]
  },
  {
   "cell_type": "code",
   "execution_count": 6,
   "metadata": {},
   "outputs": [],
   "source": [
    "import pandas as pd"
   ]
  },
  {
   "cell_type": "code",
   "execution_count": 9,
   "metadata": {},
   "outputs": [
    {
     "data": {
      "text/html": [
       "<div>\n",
       "<style scoped>\n",
       "    .dataframe tbody tr th:only-of-type {\n",
       "        vertical-align: middle;\n",
       "    }\n",
       "\n",
       "    .dataframe tbody tr th {\n",
       "        vertical-align: top;\n",
       "    }\n",
       "\n",
       "    .dataframe thead th {\n",
       "        text-align: right;\n",
       "    }\n",
       "</style>\n",
       "<table border=\"1\" class=\"dataframe\">\n",
       "  <thead>\n",
       "    <tr style=\"text-align: right;\">\n",
       "      <th></th>\n",
       "      <th>country</th>\n",
       "      <th>Population</th>\n",
       "      <th>Area_km_sq</th>\n",
       "    </tr>\n",
       "  </thead>\n",
       "  <tbody>\n",
       "    <tr>\n",
       "      <th>0</th>\n",
       "      <td>USA</td>\n",
       "      <td>300000000</td>\n",
       "      <td>10000000</td>\n",
       "    </tr>\n",
       "    <tr>\n",
       "      <th>1</th>\n",
       "      <td>Canada</td>\n",
       "      <td>150000000</td>\n",
       "      <td>14000000</td>\n",
       "    </tr>\n",
       "  </tbody>\n",
       "</table>\n",
       "</div>"
      ],
      "text/plain": [
       "  country  Population  Area_km_sq\n",
       "0     USA   300000000    10000000\n",
       "1  Canada   150000000    14000000"
      ]
     },
     "execution_count": 9,
     "metadata": {},
     "output_type": "execute_result"
    }
   ],
   "source": [
    "data_dictionary = {\"country\": [\"USA\", \"Canada\", \"Mexico\", \"Nicaragua\", \"Belize\", \"Guatamala\", \"El Salvador\", \"Costa Rica\", \"Panama\", \"Honduras\"],\n",
    "                  \"Population\": [300000000, 150000000, 167000000, 87000000, 35000000, 76000000, 45000000, 67000000, 55000000, 38000000],\n",
    "                  \"Area_km_sq\": [10000000, 14000000, 4000000, 900000, 500000, 400000, 420000, 370000,390000, 420000]}\n",
    "            \n",
    "df = pd.DataFrame(data_dictionary)\n",
    "df.head(2)\n"
   ]
  },
  {
   "cell_type": "code",
   "execution_count": 11,
   "metadata": {},
   "outputs": [
    {
     "data": {
      "text/html": [
       "<div>\n",
       "<style scoped>\n",
       "    .dataframe tbody tr th:only-of-type {\n",
       "        vertical-align: middle;\n",
       "    }\n",
       "\n",
       "    .dataframe tbody tr th {\n",
       "        vertical-align: top;\n",
       "    }\n",
       "\n",
       "    .dataframe thead th {\n",
       "        text-align: right;\n",
       "    }\n",
       "</style>\n",
       "<table border=\"1\" class=\"dataframe\">\n",
       "  <thead>\n",
       "    <tr style=\"text-align: right;\">\n",
       "      <th></th>\n",
       "      <th>Population</th>\n",
       "      <th>Area_km_sq</th>\n",
       "    </tr>\n",
       "    <tr>\n",
       "      <th>country</th>\n",
       "      <th></th>\n",
       "      <th></th>\n",
       "    </tr>\n",
       "  </thead>\n",
       "  <tbody>\n",
       "    <tr>\n",
       "      <th>USA</th>\n",
       "      <td>300000000</td>\n",
       "      <td>10000000</td>\n",
       "    </tr>\n",
       "    <tr>\n",
       "      <th>Canada</th>\n",
       "      <td>150000000</td>\n",
       "      <td>14000000</td>\n",
       "    </tr>\n",
       "  </tbody>\n",
       "</table>\n",
       "</div>"
      ],
      "text/plain": [
       "         Population  Area_km_sq\n",
       "country                        \n",
       "USA       300000000    10000000\n",
       "Canada    150000000    14000000"
      ]
     },
     "execution_count": 11,
     "metadata": {},
     "output_type": "execute_result"
    }
   ],
   "source": [
    "df.set_index(\"country\", inplace=True)\n",
    "df.head(2)"
   ]
  },
  {
   "cell_type": "code",
   "execution_count": 23,
   "metadata": {},
   "outputs": [
    {
     "data": {
      "text/html": [
       "<div>\n",
       "<style scoped>\n",
       "    .dataframe tbody tr th:only-of-type {\n",
       "        vertical-align: middle;\n",
       "    }\n",
       "\n",
       "    .dataframe tbody tr th {\n",
       "        vertical-align: top;\n",
       "    }\n",
       "\n",
       "    .dataframe thead th {\n",
       "        text-align: right;\n",
       "    }\n",
       "</style>\n",
       "<table border=\"1\" class=\"dataframe\">\n",
       "  <thead>\n",
       "    <tr style=\"text-align: right;\">\n",
       "      <th></th>\n",
       "      <th>Population</th>\n",
       "      <th>Area_miles_sq</th>\n",
       "    </tr>\n",
       "    <tr>\n",
       "      <th>country</th>\n",
       "      <th></th>\n",
       "      <th></th>\n",
       "    </tr>\n",
       "  </thead>\n",
       "  <tbody>\n",
       "    <tr>\n",
       "      <th>USA</th>\n",
       "      <td>300000000</td>\n",
       "      <td>575580.248864</td>\n",
       "    </tr>\n",
       "    <tr>\n",
       "      <th>Canada</th>\n",
       "      <td>150000000</td>\n",
       "      <td>805812.348410</td>\n",
       "    </tr>\n",
       "    <tr>\n",
       "      <th>Mexico</th>\n",
       "      <td>167000000</td>\n",
       "      <td>230232.099546</td>\n",
       "    </tr>\n",
       "    <tr>\n",
       "      <th>Nicaragua</th>\n",
       "      <td>87000000</td>\n",
       "      <td>51802.222398</td>\n",
       "    </tr>\n",
       "    <tr>\n",
       "      <th>Belize</th>\n",
       "      <td>35000000</td>\n",
       "      <td>28779.012443</td>\n",
       "    </tr>\n",
       "    <tr>\n",
       "      <th>Guatamala</th>\n",
       "      <td>76000000</td>\n",
       "      <td>23023.209955</td>\n",
       "    </tr>\n",
       "    <tr>\n",
       "      <th>El Salvador</th>\n",
       "      <td>45000000</td>\n",
       "      <td>24174.370452</td>\n",
       "    </tr>\n",
       "    <tr>\n",
       "      <th>Costa Rica</th>\n",
       "      <td>67000000</td>\n",
       "      <td>21296.469208</td>\n",
       "    </tr>\n",
       "    <tr>\n",
       "      <th>Panama</th>\n",
       "      <td>55000000</td>\n",
       "      <td>22447.629706</td>\n",
       "    </tr>\n",
       "    <tr>\n",
       "      <th>Honduras</th>\n",
       "      <td>38000000</td>\n",
       "      <td>24174.370452</td>\n",
       "    </tr>\n",
       "  </tbody>\n",
       "</table>\n",
       "</div>"
      ],
      "text/plain": [
       "             Population  Area_miles_sq\n",
       "country                               \n",
       "USA           300000000  575580.248864\n",
       "Canada        150000000  805812.348410\n",
       "Mexico        167000000  230232.099546\n",
       "Nicaragua      87000000   51802.222398\n",
       "Belize         35000000   28779.012443\n",
       "Guatamala      76000000   23023.209955\n",
       "El Salvador    45000000   24174.370452\n",
       "Costa Rica     67000000   21296.469208\n",
       "Panama         55000000   22447.629706\n",
       "Honduras       38000000   24174.370452"
      ]
     },
     "execution_count": 23,
     "metadata": {},
     "output_type": "execute_result"
    }
   ],
   "source": [
    "area_miles_sq = []\n",
    "for each in df[\"Area_km_sq\"]:\n",
    "    each = each * 0.621371\n",
    "    area_miles_sq.append(each)\n",
    "df[\"Area_km_sq\"] = area_miles_sq\n",
    "\n",
    "df.head(2)\n",
    "df.rename(columns={\"Area_km_sq\":\"Area_miles_sq\"})"
   ]
  },
  {
   "cell_type": "code",
   "execution_count": 24,
   "metadata": {},
   "outputs": [],
   "source": [
    "df2 = pd.DataFrame(data_dictionary)"
   ]
  },
  {
   "cell_type": "code",
   "execution_count": 26,
   "metadata": {},
   "outputs": [],
   "source": [
    "def km_to_miles(dataframe, column_name, new_column_name):\n",
    "    area_miles_sq = []\n",
    "    for each in dataframe[column_name]:\n",
    "        each = each * 0.621371\n",
    "        area_miles_sq.append(each)\n",
    "    dataframe[\"column_name\"] = area_miles_sq\n",
    "    dataframe.rename(columns={\"column_name\":\"new_column_name\"})\n",
    "    return dataframe"
   ]
  },
  {
   "cell_type": "code",
   "execution_count": null,
   "metadata": {},
   "outputs": [],
   "source": [
    "km_to_miles(df2, \"\", \"Area_miles_sq\")"
   ]
  }
 ],
 "metadata": {
  "kernelspec": {
   "display_name": "Python 3",
   "language": "python",
   "name": "python3"
  },
  "language_info": {
   "codemirror_mode": {
    "name": "ipython",
    "version": 3
   },
   "file_extension": ".py",
   "mimetype": "text/x-python",
   "name": "python",
   "nbconvert_exporter": "python",
   "pygments_lexer": "ipython3",
   "version": "3.7.3"
  }
 },
 "nbformat": 4,
 "nbformat_minor": 2
}
