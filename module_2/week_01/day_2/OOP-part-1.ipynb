{
 "cells": [
  {
   "cell_type": "markdown",
   "metadata": {},
   "source": [
    "# Object Oriented Programing - Part 1\n"
   ]
  },
  {
   "cell_type": "markdown",
   "metadata": {},
   "source": [
    "### Objectives\n",
    "- understanding classes as they relate to Python\n",
    "- identify and paraphrase the vocabulary of Object Oriented Programming\n",
    "- build a new simple class"
   ]
  },
  {
   "cell_type": "markdown",
   "metadata": {},
   "source": [
    "# Why OOP?\n",
    "\n",
    "- https://www.roberthalf.com/blog/salaries-and-skills/4-advantages-of-object-oriented-programming"
   ]
  },
  {
   "cell_type": "markdown",
   "metadata": {},
   "source": [
    "# Is OOP useful for Data Science?\n",
    "\n",
    "- https://www.quora.com/Do-data-scientists-use-object-oriented-programming"
   ]
  },
  {
   "cell_type": "markdown",
   "metadata": {},
   "source": [
    "# Everything in Python is an Object!!\n",
    "- everything thing we have used thus far in python is an object(strings, list, dictionaries, tuples, numpy array, dataframe, fig, ax) that belongs to a class."
   ]
  },
  {
   "cell_type": "markdown",
   "metadata": {},
   "source": [
    "### Let's take a look"
   ]
  },
  {
   "cell_type": "code",
   "execution_count": null,
   "metadata": {},
   "outputs": [],
   "source": [
    "import matplotlib.pyplot as plt\n",
    "fig = plt.figure()"
   ]
  },
  {
   "cell_type": "code",
   "execution_count": null,
   "metadata": {},
   "outputs": [],
   "source": [
    "#help(str)\n",
    "#help(list)\n",
    "#help(dict)\n",
    "#help(fig)"
   ]
  },
  {
   "cell_type": "markdown",
   "metadata": {},
   "source": [
    "### Syntax of a simple class definition"
   ]
  },
  {
   "cell_type": "raw",
   "metadata": {},
   "source": [
    "class <class name>(<parent class name>):\n",
    "    <method definition-1>\n",
    "    …\n",
    "    <method definition-n>\n"
   ]
  },
  {
   "cell_type": "markdown",
   "metadata": {},
   "source": [
    "### Glossary Terms\n",
    "\n",
    "- We use the terms **class, type, and data type** interchangeably. The attributes of a **class** are data members (class variables and instance variables) and its **methods**.\n",
    "\n",
    "- We use the term **object**, and occasionally the term\n",
    "**instance**, to refer to an instance of a particular class.\n",
    "\n",
    "- We use the term **instance variable** to refer to a variable defined inside a method and belongs only to the current instance of a class.\n",
    "\n",
    "- **Methods** are a bit like functions however each method definition must include a first parameter named **self**, even if that method seems to expect no arguments when called.\n",
    "\n",
    "- The **self parameter** ensures that the methods have a way of referring to object attributes.\n",
    "\n",
    "- Most classes include a special method named **__ init__** (class constructor) runs automatically when a user instantiates the class. Note that **__ init__** must begin and end with two consecutive underscores.\n"
   ]
  },
  {
   "cell_type": "markdown",
   "metadata": {},
   "source": [
    "## Let's try to make our first class!"
   ]
  },
  {
   "cell_type": "markdown",
   "metadata": {},
   "source": [
    "### Let's start by making a car `class` and giving it some `attributes`"
   ]
  },
  {
   "cell_type": "code",
   "execution_count": null,
   "metadata": {},
   "outputs": [],
   "source": [
    "# Created car class\n",
    "class Car():\n",
    "    pass"
   ]
  },
  {
   "cell_type": "code",
   "execution_count": null,
   "metadata": {},
   "outputs": [],
   "source": [
    "# Instantiate two instances or created object from our class Car.\n",
    "ferrari = Car() \n",
    "lambo = Car()"
   ]
  },
  {
   "cell_type": "code",
   "execution_count": null,
   "metadata": {},
   "outputs": [],
   "source": [
    "# check the type or class of lambo\n",
    "type(lambo)"
   ]
  },
  {
   "cell_type": "code",
   "execution_count": null,
   "metadata": {},
   "outputs": [],
   "source": [
    "# Can assign attributes to a class object after \n",
    "# it's been defined and intitialized.\n",
    "ferrari.max_speed = 200\n",
    "ferrari.max_speed"
   ]
  },
  {
   "cell_type": "code",
   "execution_count": null,
   "metadata": {},
   "outputs": [],
   "source": [
    "# Let's update our car class so it has more attributes\n",
    "class Car():\n",
    "    wheels = 4 # Wheels equals 4 is a class variable."
   ]
  },
  {
   "cell_type": "code",
   "execution_count": null,
   "metadata": {},
   "outputs": [],
   "source": [
    "ford = Car()\n",
    "ford.wheels"
   ]
  },
  {
   "cell_type": "code",
   "execution_count": null,
   "metadata": {},
   "outputs": [],
   "source": [
    "class Car():\n",
    "    wheels = 4\n",
    "    def __init__(self, max_speed, c_type):\n",
    "        self.max_speed = max_speed # instance variables\n",
    "        self.c_type = c_type # instance variables"
   ]
  },
  {
   "cell_type": "code",
   "execution_count": null,
   "metadata": {},
   "outputs": [],
   "source": [
    "lambo = Car(200, 'sport')"
   ]
  },
  {
   "cell_type": "code",
   "execution_count": null,
   "metadata": {},
   "outputs": [],
   "source": [
    "print(lambo.wheels)\n",
    "print(lambo.max_speed)\n",
    "print(lambo.c_type)"
   ]
  },
  {
   "cell_type": "markdown",
   "metadata": {},
   "source": [
    "#### What if you try to initialize it without one of the terms?"
   ]
  },
  {
   "cell_type": "code",
   "execution_count": null,
   "metadata": {},
   "outputs": [],
   "source": [
    "test = Car(55)"
   ]
  },
  {
   "cell_type": "markdown",
   "metadata": {},
   "source": [
    "## Now let's create a method for our car class"
   ]
  },
  {
   "cell_type": "code",
   "execution_count": null,
   "metadata": {},
   "outputs": [],
   "source": [
    "class Car(object):\n",
    "    wheels = 4\n",
    "    def __init__(self, max_speed, c_type):\n",
    "        self.max_speed = max_speed\n",
    "        self.c_type = c_type\n",
    "    def go(self):\n",
    "        print('going')\n",
    "        self.moving = True"
   ]
  },
  {
   "cell_type": "code",
   "execution_count": null,
   "metadata": {},
   "outputs": [],
   "source": [
    "lambo=Car(20, 4)\n",
    "lambo.go()\n",
    "print(lambo.max_speed)"
   ]
  },
  {
   "cell_type": "markdown",
   "metadata": {},
   "source": [
    "### Class Work"
   ]
  },
  {
   "cell_type": "code",
   "execution_count": null,
   "metadata": {},
   "outputs": [],
   "source": [
    "# Create a new method to add to the class Car that takes at least one input.\n",
    "\n",
    "class Car():\n",
    "    wheels = 4\n",
    "    def __init__(self, max_speed, c_type):\n",
    "        self.max_speed = max_speed\n",
    "        self.c_type = c_type\n",
    "    def go(self):\n",
    "        print('going')\n",
    "        self.moving = True\n",
    "    # your code here\n",
    "  "
   ]
  },
  {
   "cell_type": "markdown",
   "metadata": {},
   "source": [
    "# Reflection"
   ]
  },
  {
   "cell_type": "markdown",
   "metadata": {},
   "source": [
    "- One item you feel green -  ready to go on\n",
    "- One item you feel yellow - kind of get but not quite\n",
    "- One item you feel red - absolutely do not get"
   ]
  },
  {
   "cell_type": "markdown",
   "metadata": {},
   "source": [
    "### Textbook Example"
   ]
  },
  {
   "cell_type": "code",
   "execution_count": null,
   "metadata": {},
   "outputs": [],
   "source": [
    "class Student(object):\n",
    "    \"\"\"Represents a student.\"\"\"\n",
    "    \n",
    "    def __init__(self, name, number):\n",
    "        \"\"\"Constructor creates a Student with the given name and number of \n",
    "            scores and sets all scores to 0.\"\"\"\n",
    "        self._name=name\n",
    "        self._scores=[]\n",
    "        for count in range(number):\n",
    "            self._scores.append(0)\n",
    "    def getName(self):\n",
    "        \"\"\"Returns the student's name.\"\"\"\n",
    "        return self._name\n",
    "\n",
    "    def setScore(self, i,score):\n",
    "        \"\"\"Resets the ith score, counting from 1.\"\"\"\n",
    "        self._scores[i-1]=score\n",
    "        \n",
    "    def getScore(self,i):\n",
    "        \"\"\"Returns the ith score, counting from 1.\"\"\"\n",
    "        return self._scores[i-1]\n",
    "\n",
    "    def getAverage(self):\n",
    "        \"\"\"Returns the average score.\"\"\"\n",
    "        from functools import reduce\n",
    "        sum = reduce(lambda x,y:x+y,self._scores)\n",
    "        return sum/len(self._scores)\n",
    "\n",
    "    def getHighScore(self):\n",
    "        \"\"\"Returns the highest score.\"\"\"\n",
    "        return max(self._scores)\n",
    "    def __str__(self):\n",
    "        \"\"\"Returns the string representation of the student.\"\"\"\n",
    "        return \"Name: \" + self._name + \"\\nScores: \"+ \\\n",
    "        \" \".join(map(str,self._scores))"
   ]
  },
  {
   "cell_type": "code",
   "execution_count": null,
   "metadata": {},
   "outputs": [],
   "source": [
    "s =Student('Maria',5)"
   ]
  },
  {
   "cell_type": "code",
   "execution_count": null,
   "metadata": {},
   "outputs": [],
   "source": [
    "type(s)"
   ]
  },
  {
   "cell_type": "code",
   "execution_count": null,
   "metadata": {},
   "outputs": [],
   "source": [
    "print(s)"
   ]
  },
  {
   "cell_type": "code",
   "execution_count": null,
   "metadata": {},
   "outputs": [],
   "source": [
    "s.setScore(1,100)"
   ]
  },
  {
   "cell_type": "code",
   "execution_count": null,
   "metadata": {},
   "outputs": [],
   "source": [
    "print(s)"
   ]
  },
  {
   "cell_type": "code",
   "execution_count": null,
   "metadata": {},
   "outputs": [],
   "source": [
    "s.getHighScore()"
   ]
  },
  {
   "cell_type": "code",
   "execution_count": null,
   "metadata": {},
   "outputs": [],
   "source": [
    "s.getAverage()"
   ]
  },
  {
   "cell_type": "code",
   "execution_count": null,
   "metadata": {},
   "outputs": [],
   "source": [
    "s.getScore(1)"
   ]
  },
  {
   "cell_type": "code",
   "execution_count": null,
   "metadata": {},
   "outputs": [],
   "source": []
  }
 ],
 "metadata": {
  "kernelspec": {
   "display_name": "Python 3",
   "language": "python",
   "name": "python3"
  },
  "language_info": {
   "codemirror_mode": {
    "name": "ipython",
    "version": 3
   },
   "file_extension": ".py",
   "mimetype": "text/x-python",
   "name": "python",
   "nbconvert_exporter": "python",
   "pygments_lexer": "ipython3",
   "version": "3.7.3"
  }
 },
 "nbformat": 4,
 "nbformat_minor": 2
}
