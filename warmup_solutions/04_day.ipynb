{
 "cells": [
  {
   "cell_type": "markdown",
   "metadata": {},
   "source": [
    "# Day 04"
   ]
  },
  {
   "cell_type": "markdown",
   "metadata": {},
   "source": [
    "### Practice:"
   ]
  },
  {
   "cell_type": "code",
   "execution_count": 2,
   "metadata": {},
   "outputs": [
    {
     "name": "stdout",
     "output_type": "stream",
     "text": [
      "dict_keys(['sydney', 'howard', 'brandon'])\n",
      "dict_values(['chips', 'apple', 'nuts'])\n"
     ]
    }
   ],
   "source": [
    "# Create a classmates dictionary. Their names should be the keys and their favorite food should be the values\n",
    "classmates_dict = {\"sydney\": \"chips\", \"howard\" : \"apple\", \"brandon\": \"nuts\"}\n",
    "# Print all of the keys \n",
    "print(classmates_dict.keys())\n",
    "# Print all of the values\n",
    "print(classmates_dict.values())\n",
    "\n",
    "\n",
    "\n"
   ]
  },
  {
   "cell_type": "code",
   "execution_count": 3,
   "metadata": {},
   "outputs": [
    {
     "data": {
      "text/plain": [
       "[{'name': 'Sydney', 'birth_month': 'October', 'birth_country': 'USA'},\n",
       " {'name': 'Howard', 'birth_month': 'January', 'birth_country': 'Jamaica'},\n",
       " {'name': 'Brandon', 'birth_month': 'June', 'birth_country': 'USA'}]"
      ]
     },
     "execution_count": 3,
     "metadata": {},
     "output_type": "execute_result"
    }
   ],
   "source": [
    "#Choose three classmates and create a dictionary for each of them. Each dictionary should have the keys: Name, Birth Month, birth Country. Create a list of these dictionaries. \n",
    "student_1 = {\"name\": \"Sydney\", \"birth_month\": \"October\", \"birth_country\": \"USA\" }\n",
    "student_2 = {\"name\": \"Howard\", \"birth_month\": \"January\", \"birth_country\": \"Jamaica\" }\n",
    "student_3 = {\"name\": \"Brandon\", \"birth_month\": \"June\", \"birth_country\": \"USA\" }\n",
    "\n",
    "classmates = [student_1, student_2, student_3]\n",
    "classmates"
   ]
  },
  {
   "cell_type": "code",
   "execution_count": 8,
   "metadata": {},
   "outputs": [
    {
     "data": {
      "text/plain": [
       "'January'"
      ]
     },
     "execution_count": 8,
     "metadata": {},
     "output_type": "execute_result"
    }
   ],
   "source": [
    "# Challenge: Print the Birth Month of the second person in your list. \n",
    "classmates[1][\"birth_month\"]"
   ]
  },
  {
   "cell_type": "code",
   "execution_count": 4,
   "metadata": {},
   "outputs": [
    {
     "name": "stdout",
     "output_type": "stream",
     "text": [
      "['Sydney is from USA', 'Howard is from Jamaica', 'Brandon is from USA']\n"
     ]
    }
   ],
   "source": [
    "# Challenge: Use a for loop to print out a string of where each student is from. Append these strings to a list. \n",
    "students_names = []\n",
    "for student in classmates:\n",
    "    name = student[\"name\"]\n",
    "    birth_country = student [\"birth_country\"]\n",
    "    students_names.append(f\"{name} is from {birth_country}\")\n",
    "\n",
    "print(students_names)"
   ]
  },
  {
   "cell_type": "code",
   "execution_count": 7,
   "metadata": {},
   "outputs": [
    {
     "name": "stdout",
     "output_type": "stream",
     "text": [
      "[('Sydney', 'October', 'USA'), ('Howard', 'January', 'Jamaica'), ('Brandon', 'June', 'USA')]\n"
     ]
    }
   ],
   "source": [
    "# Now we want each student’s name, birth month and birth country to be added to a list. But we want the data to be immutable. Use a for loop to accomplish this! \n",
    "immutable_data = []\n",
    "for student in classmates:\n",
    "    tuple_data = tuple(student.values())\n",
    "    immutable_data.append(tuple_data)\n",
    "print(immutable_data)"
   ]
  },
  {
   "cell_type": "markdown",
   "metadata": {},
   "source": [
    "### **Question:**\n",
    "\n",
    "What are some of the advantages of using a dictionary to store data? \n",
    "\n",
    "***Add response here:***"
   ]
  },
  {
   "cell_type": "code",
   "execution_count": null,
   "metadata": {},
   "outputs": [],
   "source": []
  }
 ],
 "metadata": {
  "kernelspec": {
   "display_name": "Python 3",
   "language": "python",
   "name": "python3"
  },
  "language_info": {
   "codemirror_mode": {
    "name": "ipython",
    "version": 3
   },
   "file_extension": ".py",
   "mimetype": "text/x-python",
   "name": "python",
   "nbconvert_exporter": "python",
   "pygments_lexer": "ipython3",
   "version": "3.7.3"
  }
 },
 "nbformat": 4,
 "nbformat_minor": 2
}
