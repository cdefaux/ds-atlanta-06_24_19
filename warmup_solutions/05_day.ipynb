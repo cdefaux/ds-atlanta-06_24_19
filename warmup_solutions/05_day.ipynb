{
 "cells": [
  {
   "cell_type": "markdown",
   "metadata": {},
   "source": [
    "# Day 05"
   ]
  },
  {
   "cell_type": "markdown",
   "metadata": {},
   "source": [
    "### Practice:"
   ]
  },
  {
   "cell_type": "code",
   "execution_count": 20,
   "metadata": {},
   "outputs": [
    {
     "name": "stdout",
     "output_type": "stream",
     "text": [
      "[1, 2, 3, 4, 5, 6, 7, 8, 9, 10]\n"
     ]
    },
    {
     "data": {
      "text/plain": [
       "array([[2, 3],\n",
       "       [5, 4],\n",
       "       [6, 7]])"
      ]
     },
     "execution_count": 20,
     "metadata": {},
     "output_type": "execute_result"
    }
   ],
   "source": [
    "# Create a list with elements ranging from 1 to 10\n",
    "import numpy as np\n",
    "range_list = list(range(1,11))\n",
    "print(range_list)\n",
    "\n",
    "# Create an array with the shape (2, 3, 2)\n",
    "test = [[[2,3], [5,4], [6,7]],[[2,3], [5,4], [6,7]]]\n",
    "test_array = np.array(test)\n",
    "test_array.shape\n",
    "\n",
    "# Print the first row of the array\n",
    "test_array[0]"
   ]
  },
  {
   "cell_type": "code",
   "execution_count": 68,
   "metadata": {},
   "outputs": [],
   "source": [
    "# Challenge: Create a function that adds together two arrays\n",
    "def add_list(array1, array2):\n",
    "    return array1 + array2"
   ]
  },
  {
   "cell_type": "code",
   "execution_count": 70,
   "metadata": {},
   "outputs": [
    {
     "data": {
      "text/plain": [
       "array([5, 7, 9])"
      ]
     },
     "execution_count": 70,
     "metadata": {},
     "output_type": "execute_result"
    }
   ],
   "source": [
    "array1 = np.array([1,2,3])\n",
    "array2 = np.array([4,5,6])\n",
    "add_list(array1,array2)"
   ]
  },
  {
   "cell_type": "code",
   "execution_count": 1,
   "metadata": {},
   "outputs": [],
   "source": [
    "challenge_list = [1,2,3,4,5]"
   ]
  },
  {
   "cell_type": "markdown",
   "metadata": {},
   "source": [
    "Using `challenge_list = [1,2,3,4,5]`, create a new list that should equal `[0, 1, 2, 3, 6, 5, 12, 7, 20, 9]`\n",
    "Hint: Use a for loop! \n",
    "Hints: The first number in challenge_list is multiplied by its index to get the first number in the new_list. \n",
    "       The first number in challenge_list is added to its index to get the second number in the new list.\n",
    "       This is repearted for each number in challenge_list. "
   ]
  },
  {
   "cell_type": "code",
   "execution_count": 21,
   "metadata": {},
   "outputs": [
    {
     "data": {
      "text/plain": [
       "[0, 1, 2, 3, 6, 5, 12, 7, 20, 9]"
      ]
     },
     "execution_count": 21,
     "metadata": {},
     "output_type": "execute_result"
    }
   ],
   "source": [
    "challenge_list = [1,2,3,4,5]\n",
    "new_list = []\n",
    "for number in range(0, len(practice_list)):\n",
    "    multiplied = practice_list[number] * number\n",
    "    added = practice_list[number] + number \n",
    "    new_list.append(multiplied)\n",
    "    new_list.append(added)\n",
    "new_list"
   ]
  },
  {
   "cell_type": "markdown",
   "metadata": {},
   "source": [
    "### **Question:**\n",
    "\n",
    "What are some differences between a list and a numpy array?\n",
    "\n",
    "***Add response here:***\n",
    "    \n"
   ]
  }
 ],
 "metadata": {
  "kernelspec": {
   "display_name": "Python 3",
   "language": "python",
   "name": "python3"
  },
  "language_info": {
   "codemirror_mode": {
    "name": "ipython",
    "version": 3
   },
   "file_extension": ".py",
   "mimetype": "text/x-python",
   "name": "python",
   "nbconvert_exporter": "python",
   "pygments_lexer": "ipython3",
   "version": "3.7.3"
  }
 },
 "nbformat": 4,
 "nbformat_minor": 2
}
