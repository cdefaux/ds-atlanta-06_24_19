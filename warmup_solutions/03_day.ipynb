{
 "cells": [
  {
   "cell_type": "markdown",
   "metadata": {},
   "source": [
    "# Day 03"
   ]
  },
  {
   "cell_type": "markdown",
   "metadata": {},
   "source": [
    "### Practice:"
   ]
  },
  {
   "cell_type": "code",
   "execution_count": 2,
   "metadata": {},
   "outputs": [
    {
     "name": "stdout",
     "output_type": "stream",
     "text": [
      "6\n",
      "Patrick\n",
      "['Thoa', 'Maia', 'Gary']\n"
     ]
    }
   ],
   "source": [
    "#Create a list that contains the names of your classmates\n",
    "classmates = [\"Christiaan\", \"Princess\", \"Thoa\", \"Maia\", \"Gary\", \"Patrick\"]\n",
    "# Print out the number of elements in the list \n",
    "print(len(classmates))\n",
    "#Print out the last person in the list\n",
    "print(classmates[-1])\n",
    "# Print out the 3rd-5th persons in the list\n",
    "print(classmates[2:5])"
   ]
  },
  {
   "cell_type": "code",
   "execution_count": 3,
   "metadata": {},
   "outputs": [
    {
     "name": "stdout",
     "output_type": "stream",
     "text": [
      "['Christiaan', 'Princess', 'Thoa', 'Maia', 'Gary', 'Patrick', 'Bob']\n",
      "['Christiaan', 'Princess', 'Thoa', 'Maia', 'Gary', 'Patrick']\n"
     ]
    }
   ],
   "source": [
    "# Y’all have a new classmate. Add Bob to the list of classmates. \n",
    "classmates.append(\"Bob\")\n",
    "print(classmates)\n",
    "# Actually, Bob is a software engineering student. Remove his name from the list \n",
    "classmates.pop()\n",
    "print(classmates)"
   ]
  },
  {
   "cell_type": "code",
   "execution_count": 4,
   "metadata": {},
   "outputs": [
    {
     "name": "stdout",
     "output_type": "stream",
     "text": [
      "Christiaan\n",
      "Princess\n",
      "Thoa\n",
      "Maia\n",
      "Gary\n",
      "Patrick\n"
     ]
    }
   ],
   "source": [
    "# Challenge: Write a for loop to print out each person in the list \n",
    "for person in classmates:\n",
    "    print(person)"
   ]
  },
  {
   "cell_type": "markdown",
   "metadata": {},
   "source": [
    "### **Question:**\n",
    "\n",
    "Why might we want some data types to mutable and others to be immutable?\n",
    "\n",
    "***Add response here:***"
   ]
  },
  {
   "cell_type": "markdown",
   "metadata": {},
   "source": [
    "# Day 05"
   ]
  },
  {
   "cell_type": "markdown",
   "metadata": {},
   "source": [
    "### Practice:"
   ]
  },
  {
   "cell_type": "code",
   "execution_count": 61,
   "metadata": {},
   "outputs": [
    {
     "name": "stdout",
     "output_type": "stream",
     "text": [
      "[1, 2, 3, 4, 5, 6, 7, 8, 9, 10]\n",
      "[[2 3 4]\n",
      " [5 4 4]]\n"
     ]
    },
    {
     "data": {
      "text/plain": [
       "array([2, 3, 4])"
      ]
     },
     "execution_count": 61,
     "metadata": {},
     "output_type": "execute_result"
    }
   ],
   "source": [
    "# Create a list with elements ranging from 1 to 10\n",
    "import numpy as np\n",
    "range_list = list(range(1,11))\n",
    "print(range_list)\n",
    "# Create an array with the shape (2, 3)\n",
    "test = [[2,3, 4], [5,4, 4]]\n",
    "test_array = np.array(test)\n",
    "print(test_array)\n",
    "# Print the first row of the array\n",
    "test_array[0]"
   ]
  },
  {
   "cell_type": "code",
   "execution_count": 68,
   "metadata": {},
   "outputs": [],
   "source": [
    "# Challenge: Create a function that adds together two arrays\n",
    "def add_list(array1, array2):\n",
    "    return array1 + array2"
   ]
  },
  {
   "cell_type": "code",
   "execution_count": 70,
   "metadata": {},
   "outputs": [
    {
     "data": {
      "text/plain": [
       "array([5, 7, 9])"
      ]
     },
     "execution_count": 70,
     "metadata": {},
     "output_type": "execute_result"
    }
   ],
   "source": [
    "array1 = np.array([1,2,3])\n",
    "array2 = np.array([4,5,6])\n",
    "add_list(array1,array2)"
   ]
  },
  {
   "cell_type": "markdown",
   "metadata": {},
   "source": [
    "### **Question:**\n",
    "\n",
    "What are some differences between a list and a numpy array?\n",
    "\n",
    "***Add response here:***\n",
    "    \n"
   ]
  },
  {
   "cell_type": "code",
   "execution_count": null,
   "metadata": {},
   "outputs": [],
   "source": []
  }
 ],
 "metadata": {
  "kernelspec": {
   "display_name": "Python 3",
   "language": "python",
   "name": "python3"
  },
  "language_info": {
   "codemirror_mode": {
    "name": "ipython",
    "version": 3
   },
   "file_extension": ".py",
   "mimetype": "text/x-python",
   "name": "python",
   "nbconvert_exporter": "python",
   "pygments_lexer": "ipython3",
   "version": "3.7.3"
  }
 },
 "nbformat": 4,
 "nbformat_minor": 2
}
