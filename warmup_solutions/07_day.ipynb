{
 "cells": [
  {
   "cell_type": "markdown",
   "metadata": {},
   "source": [
    "# Module 1: Day 7"
   ]
  },
  {
   "cell_type": "markdown",
   "metadata": {},
   "source": [
    "Build a function called vowel.counter that takes in a string and returns the number of times a,e,i,o,u (lowercase or uppercase) appear in the string. This function should return a dictionary with vowels as keys and the counts of each vowel as the values. "
   ]
  },
  {
   "cell_type": "code",
   "execution_count": 7,
   "metadata": {},
   "outputs": [],
   "source": [
    "def vowel_counter(string):\n",
    "    vowels = [\"a\", \"e\", \"i\", \"o\", \"u\"]\n",
    "    vowel_count = {}\n",
    "    vowels_in_str = []\n",
    "    for each in string:\n",
    "        if each.lower() in vowels:\n",
    "            vowels_in_str.append(each)\n",
    "    for each in vowels:\n",
    "        vowel_count[each] = vowels_in_str.count(each)\n",
    "    return vowel_count"
   ]
  }
 ],
 "metadata": {
  "kernelspec": {
   "display_name": "Python 3",
   "language": "python",
   "name": "python3"
  },
  "language_info": {
   "codemirror_mode": {
    "name": "ipython",
    "version": 3
   },
   "file_extension": ".py",
   "mimetype": "text/x-python",
   "name": "python",
   "nbconvert_exporter": "python",
   "pygments_lexer": "ipython3",
   "version": "3.7.3"
  }
 },
 "nbformat": 4,
 "nbformat_minor": 2
}
