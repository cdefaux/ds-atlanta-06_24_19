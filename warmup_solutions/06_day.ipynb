{
 "cells": [
  {
   "cell_type": "markdown",
   "metadata": {},
   "source": [
    "# Module 1 Day 6:\n",
    "Codewars Challenge: \n",
    "\n",
    "https://www.codewars.com/kata/leap-years/train/python\n",
    "\n",
    "In this function you should simply determine whether a given year is a leap year or not. In case you don't know the rules, here they are:\n",
    "\n",
    "1. years divisible by 4 are leap years\n",
    "2. but years divisible by 100 are not leap years\n",
    "3. but years divisible by 400 are leap years\n"
   ]
  },
  {
   "cell_type": "code",
   "execution_count": 2,
   "metadata": {},
   "outputs": [],
   "source": [
    "## Initial Framework\n",
    "def isLeapYear(year):\n",
    "    #your code here. Try to do it in one line.\n",
    "    return #True/False"
   ]
  },
  {
   "cell_type": "code",
   "execution_count": 3,
   "metadata": {},
   "outputs": [],
   "source": [
    "def isLeapYear(year):\n",
    "    is_leapyr = None\n",
    "    if year % 400 == 0:\n",
    "       is_leapyr = True\n",
    "    elif year % 100 == 0:\n",
    "       is_leapyr = False\n",
    "    elif year % 4 == 0:\n",
    "        is_leapyr = True\n",
    "    else:\n",
    "        is_leapyr = False\n",
    "    return is_leapyr"
   ]
  }
 ],
 "metadata": {
  "kernelspec": {
   "display_name": "Python 3",
   "language": "python",
   "name": "python3"
  },
  "language_info": {
   "codemirror_mode": {
    "name": "ipython",
    "version": 3
   },
   "file_extension": ".py",
   "mimetype": "text/x-python",
   "name": "python",
   "nbconvert_exporter": "python",
   "pygments_lexer": "ipython3",
   "version": "3.6.6"
  }
 },
 "nbformat": 4,
 "nbformat_minor": 2
}
