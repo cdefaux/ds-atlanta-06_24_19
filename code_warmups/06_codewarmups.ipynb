{
 "cells": [
  {
   "cell_type": "code",
   "execution_count": 1,
   "metadata": {},
   "outputs": [
    {
     "name": "stdout",
     "output_type": "stream",
     "text": [
      "{'country': ['USA', 'Canada', 'Mexico', 'Nicaragua', 'Belize', 'Guatamala', 'El Salvador', 'Costa Rica', 'Panama', 'Honduras'], 'Population': [300000000, 150000000, 167000000, 87000000, 35000000, 76000000, 45000000, 67000000, 55000000, 38000000], 'Area_km_sq': [10000000, 14000000, 4000000, 900000, 500000, 400000, 420000, 370000, 390000, 420000]}\n"
     ]
    }
   ],
   "source": [
    "data_dictionary = {\"country\": [\"USA\", \"Canada\", \"Mexico\", \"Nicaragua\", \"Belize\", \"Guatamala\", \"El Salvador\", \"Costa Rica\", \"Panama\", \"Honduras\"],  \"Population\": [300000000, 150000000, 167000000, 87000000, 35000000, 76000000, 45000000, 67000000, 55000000, 38000000],  \"Area_km_sq\": [10000000, 14000000, 4000000, 900000, 500000, 400000, 420000, 370000,390000, 420000]}\n",
    "print(data_dictionary)"
   ]
  },
  {
   "cell_type": "code",
   "execution_count": 20,
   "metadata": {},
   "outputs": [
    {
     "data": {
      "text/html": [
       "<div>\n",
       "<style scoped>\n",
       "    .dataframe tbody tr th:only-of-type {\n",
       "        vertical-align: middle;\n",
       "    }\n",
       "\n",
       "    .dataframe tbody tr th {\n",
       "        vertical-align: top;\n",
       "    }\n",
       "\n",
       "    .dataframe thead th {\n",
       "        text-align: right;\n",
       "    }\n",
       "</style>\n",
       "<table border=\"1\" class=\"dataframe\">\n",
       "  <thead>\n",
       "    <tr style=\"text-align: right;\">\n",
       "      <th></th>\n",
       "      <th>country</th>\n",
       "      <th>Population</th>\n",
       "      <th>Area_Miles_sq</th>\n",
       "      <th>pop_permsq</th>\n",
       "    </tr>\n",
       "  </thead>\n",
       "  <tbody>\n",
       "    <tr>\n",
       "      <th>0</th>\n",
       "      <td>USA</td>\n",
       "      <td>300000000</td>\n",
       "      <td>3861020.00</td>\n",
       "      <td>77.699675</td>\n",
       "    </tr>\n",
       "    <tr>\n",
       "      <th>1</th>\n",
       "      <td>Canada</td>\n",
       "      <td>150000000</td>\n",
       "      <td>5405428.00</td>\n",
       "      <td>27.749884</td>\n",
       "    </tr>\n",
       "    <tr>\n",
       "      <th>2</th>\n",
       "      <td>Mexico</td>\n",
       "      <td>167000000</td>\n",
       "      <td>1544408.00</td>\n",
       "      <td>108.132048</td>\n",
       "    </tr>\n",
       "    <tr>\n",
       "      <th>3</th>\n",
       "      <td>Nicaragua</td>\n",
       "      <td>87000000</td>\n",
       "      <td>347491.80</td>\n",
       "      <td>250.365620</td>\n",
       "    </tr>\n",
       "    <tr>\n",
       "      <th>4</th>\n",
       "      <td>Belize</td>\n",
       "      <td>35000000</td>\n",
       "      <td>193051.00</td>\n",
       "      <td>181.299242</td>\n",
       "    </tr>\n",
       "    <tr>\n",
       "      <th>5</th>\n",
       "      <td>Guatamala</td>\n",
       "      <td>76000000</td>\n",
       "      <td>154440.80</td>\n",
       "      <td>492.097943</td>\n",
       "    </tr>\n",
       "    <tr>\n",
       "      <th>6</th>\n",
       "      <td>El Salvador</td>\n",
       "      <td>45000000</td>\n",
       "      <td>162162.84</td>\n",
       "      <td>277.498840</td>\n",
       "    </tr>\n",
       "    <tr>\n",
       "      <th>7</th>\n",
       "      <td>Costa Rica</td>\n",
       "      <td>67000000</td>\n",
       "      <td>142857.74</td>\n",
       "      <td>468.998040</td>\n",
       "    </tr>\n",
       "    <tr>\n",
       "      <th>8</th>\n",
       "      <td>Panama</td>\n",
       "      <td>55000000</td>\n",
       "      <td>150579.78</td>\n",
       "      <td>365.254883</td>\n",
       "    </tr>\n",
       "    <tr>\n",
       "      <th>9</th>\n",
       "      <td>Honduras</td>\n",
       "      <td>38000000</td>\n",
       "      <td>162162.84</td>\n",
       "      <td>234.332354</td>\n",
       "    </tr>\n",
       "  </tbody>\n",
       "</table>\n",
       "</div>"
      ],
      "text/plain": [
       "       country  Population  Area_Miles_sq  pop_permsq\n",
       "0          USA   300000000     3861020.00   77.699675\n",
       "1       Canada   150000000     5405428.00   27.749884\n",
       "2       Mexico   167000000     1544408.00  108.132048\n",
       "3    Nicaragua    87000000      347491.80  250.365620\n",
       "4       Belize    35000000      193051.00  181.299242\n",
       "5    Guatamala    76000000      154440.80  492.097943\n",
       "6  El Salvador    45000000      162162.84  277.498840\n",
       "7   Costa Rica    67000000      142857.74  468.998040\n",
       "8       Panama    55000000      150579.78  365.254883\n",
       "9     Honduras    38000000      162162.84  234.332354"
      ]
     },
     "execution_count": 20,
     "metadata": {},
     "output_type": "execute_result"
    }
   ],
   "source": [
    "import pandas as pd\n",
    "\n",
    "df = pd.DataFrame.from_dict(data_dictionary)\n",
    "df.head()\n",
    "\n",
    "dfnew = df.rename(columns={'Area_km_sq': 'Area_Miles_sq'})\n",
    "dfnew['Area_Miles_sq'] = df['Area_km_sq']*0.386102\n",
    "dfnew['pop_permsq'] = df['Population']/dfnew['Area_Miles_sq']\n",
    "dfnew\n"
   ]
  },
  {
   "cell_type": "code",
   "execution_count": 23,
   "metadata": {},
   "outputs": [],
   "source": [
    "def convertkmtomiles(dataframe, column_name, new_column_name):\n",
    "    dataframe.rename(columns={'column_name': 'new_column_name'})\n",
    "    dataframe[\"new_column_name\"] = dataframe['column_name'] * 0.386102\n",
    "    return dataframe\n",
    " "
   ]
  },
  {
   "cell_type": "code",
   "execution_count": null,
   "metadata": {},
   "outputs": [],
   "source": []
  }
 ],
 "metadata": {
  "kernelspec": {
   "display_name": "Python 3",
   "language": "python",
   "name": "python3"
  },
  "language_info": {
   "codemirror_mode": {
    "name": "ipython",
    "version": 3
   },
   "file_extension": ".py",
   "mimetype": "text/x-python",
   "name": "python",
   "nbconvert_exporter": "python",
   "pygments_lexer": "ipython3",
   "version": "3.7.3"
  }
 },
 "nbformat": 4,
 "nbformat_minor": 2
}
