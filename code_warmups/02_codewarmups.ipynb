{
 "cells": [
  {
   "cell_type": "code",
   "execution_count": 46,
   "metadata": {
    "scrolled": true
   },
   "outputs": [
    {
     "name": "stdout",
     "output_type": "stream",
     "text": [
      "Maia\n",
      "Princess\n",
      "Thoa\n",
      "Patrick\n",
      "Gary\n",
      "Bun\n",
      "Jollof Rice\n",
      "Pho\n",
      "Sushi\n",
      "Pancakes\n",
      "June\n",
      "{'Name': 'Princess', 'Birth Month': 'March', 'Place of Birth': 'Nigeria'}\n",
      "{'Name': 'Maia', 'Birth Month': 'June', 'Place of Birth': 'Ho Chi Minh'}\n",
      "{'Name': 'Gary', 'Birth Month': 'August', 'Place of Birth': 'USA'}\n"
     ]
    }
   ],
   "source": [
    "classmates = {'Maia': 'Bun', 'Princess': 'Jollof Rice', 'Thoa': 'Pho', 'Patrick': 'Sushi', 'Gary': 'Pancakes'}\n",
    "\n",
    "for classmate in classmates:\n",
    "    print(classmate)\n",
    "    \n",
    "for classmate in classmates:\n",
    "    print(classmates[classmate])\n",
    "    \n",
    "Princess = {'Name': 'Princess', 'Birth Month': 'March', 'Place of Birth': 'Nigeria'}\n",
    "Maia = {'Name': 'Maia', 'Birth Month': 'June', 'Place of Birth': 'Ho Chi Minh'}\n",
    "Gary = {'Name': 'Gary', 'Birth Month': 'August', 'Place of Birth': 'USA'}\n",
    "\n",
    "students = [{'Name': 'Princess', 'Birth Month': 'March', 'Place of Birth': 'Nigeria'}, {'Name': 'Maia', 'Birth Month': 'June', 'Place of Birth': 'Ho Chi Minh'}, {'Name': 'Gary', 'Birth Month': 'August', 'Place of Birth': 'USA'}]\n",
    " \n",
    "print(students[1][\"Birth Month\"])\n",
    "\n",
    "pob = []\n",
    "\n",
    "for student in students:\n",
    "    print(student)\n",
    "    \n",
    "    \n"
   ]
  },
  {
   "cell_type": "code",
   "execution_count": 38,
   "metadata": {},
   "outputs": [
    {
     "data": {
      "text/plain": [
       "['Princess is from Nigeria', 'Maia is from Ho Chi Minh', 'Gary is from USA']"
      ]
     },
     "execution_count": 38,
     "metadata": {},
     "output_type": "execute_result"
    }
   ],
   "source": [
    "people = []\n",
    "for student in students:\n",
    "    name = student[\"Name\"]\n",
    "    pob = student [\"Place of Birth\"]\n",
    "    people.append(f\"{name} is from {pob}\")\n",
    "    \n",
    "people"
   ]
  },
  {
   "cell_type": "code",
   "execution_count": 64,
   "metadata": {},
   "outputs": [
    {
     "data": {
      "text/plain": [
       "[('Princess', 'March', 'Nigeria'),\n",
       " ('Maia', 'June', 'Ho Chi Minh'),\n",
       " ('Gary', 'August', 'USA')]"
      ]
     },
     "execution_count": 64,
     "metadata": {},
     "output_type": "execute_result"
    }
   ],
   "source": [
    "datas = []\n",
    "for student in students:\n",
    "    datas.append(tuple(student.values()))\n",
    "\n",
    "datas\n"
   ]
  },
  {
   "cell_type": "code",
   "execution_count": null,
   "metadata": {},
   "outputs": [],
   "source": []
  }
 ],
 "metadata": {
  "kernelspec": {
   "display_name": "Python 3",
   "language": "python",
   "name": "python3"
  },
  "language_info": {
   "codemirror_mode": {
    "name": "ipython",
    "version": 3
   },
   "file_extension": ".py",
   "mimetype": "text/x-python",
   "name": "python",
   "nbconvert_exporter": "python",
   "pygments_lexer": "ipython3",
   "version": "3.7.3"
  }
 },
 "nbformat": 4,
 "nbformat_minor": 2
}
