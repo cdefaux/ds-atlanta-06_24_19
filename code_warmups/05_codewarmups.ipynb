{
 "cells": [
  {
   "cell_type": "code",
   "execution_count": 29,
   "metadata": {},
   "outputs": [],
   "source": [
    "sentence = 'hello my name is'\n",
    "\n",
    "\n",
    "def vowel_counter(sentence):\n",
    "    dictionary = {}\n",
    "    vowel = ['a', 'e', 'i', 'o', 'u']\n",
    "    vowels_in_sentence = []\n",
    "    for letter in sentence:\n",
    "        if letter in vowel:\n",
    "            vowels_in_sentence.append(letter)\n",
    "    for letter in vowel:\n",
    "        dictionary[letter] = vowels_in_sentence.count(letter)\n",
    "    return dictionary\n"
   ]
  },
  {
   "cell_type": "code",
   "execution_count": 30,
   "metadata": {},
   "outputs": [
    {
     "data": {
      "text/plain": [
       "{'a': 1, 'e': 2, 'i': 1, 'o': 1, 'u': 0}"
      ]
     },
     "execution_count": 30,
     "metadata": {},
     "output_type": "execute_result"
    },
    {
     "data": {
      "text/plain": [
       "{'a': 1, 'e': 2, 'i': 1, 'o': 1, 'u': 0}"
      ]
     },
     "execution_count": 30,
     "metadata": {},
     "output_type": "execute_result"
    }
   ],
   "source": [
    "vowel_counter(sentence)"
   ]
  },
  {
   "cell_type": "code",
   "execution_count": null,
   "metadata": {},
   "outputs": [],
   "source": []
  }
 ],
 "metadata": {
  "kernelspec": {
   "display_name": "Python 3",
   "language": "python",
   "name": "python3"
  },
  "language_info": {
   "codemirror_mode": {
    "name": "ipython",
    "version": 3
   },
   "file_extension": ".py",
   "mimetype": "text/x-python",
   "name": "python",
   "nbconvert_exporter": "python",
   "pygments_lexer": "ipython3",
   "version": "3.7.3"
  }
 },
 "nbformat": 4,
 "nbformat_minor": 2
}
