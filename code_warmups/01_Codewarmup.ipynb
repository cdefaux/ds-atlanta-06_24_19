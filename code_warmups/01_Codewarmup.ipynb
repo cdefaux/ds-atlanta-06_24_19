{
 "cells": [
  {
   "cell_type": "code",
   "execution_count": 1,
   "metadata": {},
   "outputs": [
    {
     "name": "stdout",
     "output_type": "stream",
     "text": [
      "5\n",
      "Princess\n",
      "['Gary', 'Patrick', 'Princess']\n",
      "Maia\n",
      "Thoa\n",
      "Gary\n",
      "Patrick\n",
      "Princess\n"
     ]
    }
   ],
   "source": [
    "classmate_names = [\"Maia\", \"Thoa\", \"Gary\", \"Patrick\", \"Princess\"]\n",
    "\n",
    "print(len(classmate_names))\n",
    "\n",
    "print(classmate_names[-1])\n",
    "\n",
    "print(classmate_names[2:5])\n",
    "\n",
    "classmate_names.append(\"Bob\")\n",
    "\n",
    "classmate_names.remove(\"Bob\")\n",
    "\n",
    "for i in classmate_names:\n",
    "    print(i)\n",
    "\n",
    "\n"
   ]
  },
  {
   "cell_type": "code",
   "execution_count": null,
   "metadata": {},
   "outputs": [],
   "source": []
  }
 ],
 "metadata": {
  "kernelspec": {
   "display_name": "Python 3",
   "language": "python",
   "name": "python3"
  },
  "language_info": {
   "codemirror_mode": {
    "name": "ipython",
    "version": 3
   },
   "file_extension": ".py",
   "mimetype": "text/x-python",
   "name": "python",
   "nbconvert_exporter": "python",
   "pygments_lexer": "ipython3",
   "version": "3.7.3"
  }
 },
 "nbformat": 4,
 "nbformat_minor": 2
}
